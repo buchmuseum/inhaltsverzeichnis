{
 "cells": [
  {
   "cell_type": "code",
   "execution_count": 3,
   "id": "1955077b-4a0c-4fac-bfed-b8ecb984f5f6",
   "metadata": {
    "tags": []
   },
   "outputs": [
    {
     "ename": "SyntaxError",
     "evalue": "invalid syntax (211845823.py, line 17)",
     "output_type": "error",
     "traceback": [
      "\u001b[1;36m  Cell \u001b[1;32mIn[3], line 17\u001b[1;36m\u001b[0m\n\u001b[1;33m    filter_cmd = f'pica-rs filter -s \"001A$=25 and 047I.c=04\"' \"{datendump_file}\" -o \"{filtered_dump}\"\u001b[0m\n\u001b[1;37m                                                                                     ^\u001b[0m\n\u001b[1;31mSyntaxError\u001b[0m\u001b[1;31m:\u001b[0m invalid syntax\n"
     ]
    }
   ],
   "source": [
    "import pandas as pd\n",
    "import subprocess\n",
    "import os\n",
    "\n",
    "# Excel-Datei laden oder neue erstellen\n",
    "excel_file = \"idn.xlsx\"\n",
    "if os.path.exists(excel_file):\n",
    "    idn_df = pd.read_excel(excel_file, dtype=str)\n",
    "else:\n",
    "    idn_df = pd.DataFrame(columns=[\"IDN\"])\n",
    "\n",
    "# PICA-RS Dump-Datei\n",
    "datendump_file = r\"D:\\Pica-RS\\DNBtitel.dat\"  # Rohstring für Windows-Pfad\n",
    "filtered_dump = r\"D:\\Pica-RS\\DNBtitel_filtered.dat\"  # Zwischen-Dump\n",
    "\n",
    "# 1. Filterbefehl: neuen Datendump erstellen\n",
    "filter_cmd = f'pica filter -s  047I.c=04\"' \"{datendump_file}\" -o \"{filtered_dump}\"\n",
    "\n",
    "try:\n",
    "    subprocess.run(filter_cmd, check=True, shell=True)\n",
    "    print(\"Gefilterter Dump erstellt:\", filtered_dump)\n",
    "\n",
    "    # 2. Select-Befehl: nur IDNs extrahieren\n",
    "    select_cmd = f'pica-rs select \"{filtered_dump}\" 003@.0'\n",
    "    result = subprocess.run(select_cmd, capture_output=True, text=True, shell=True)\n",
    "    result.check_returncode()\n",
    "\n",
    "    idns_new = result.stdout.splitlines()\n",
    "\n",
    "    # Nur neue IDNs hinzufügen\n",
    "    idns_to_add = [idn for idn in idns_new if idn not in idn_df[\"IDN\"].values]\n",
    "\n",
    "    if idns_to_add:\n",
    "        new_df = pd.DataFrame(idns_to_add, columns=[\"IDN\"])\n",
    "        idn_df = pd.concat([idn_df, new_df], ignore_index=True)\n",
    "        idn_df.to_excel(excel_file, index=False)\n",
    "        print(f\"{len(idns_to_add)} neue IDNs hinzugefügt.\")\n",
    "    else:\n",
    "        print(\"Keine neuen IDNs gefunden.\")\n",
    "\n",
    "except subprocess.CalledProcessError as e:\n",
    "    print(\"Fehler beim Ausführen von PICA-RS:\", e)\n"
   ]
  }
 ],
 "metadata": {
  "kernelspec": {
   "display_name": "Python 3 (ipykernel)",
   "language": "python",
   "name": "python3"
  },
  "language_info": {
   "codemirror_mode": {
    "name": "ipython",
    "version": 3
   },
   "file_extension": ".py",
   "mimetype": "text/x-python",
   "name": "python",
   "nbconvert_exporter": "python",
   "pygments_lexer": "ipython3",
   "version": "3.11.5"
  }
 },
 "nbformat": 4,
 "nbformat_minor": 5
}
