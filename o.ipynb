{
 "cells": [
  {
   "cell_type": "code",
   "execution_count": 5,
   "metadata": {},
   "outputs": [
    {
     "name": "stdout",
     "output_type": "stream",
     "text": [
      "Fertig! Datei 'gefilterte_saetze.xlsx' erstellt ✅\n"
     ]
    }
   ],
   "source": [
    "import pandas as pd\n",
    "\n",
    "# Schlagwort-Datei laden (mit Spalten: Schlagwort, Gewicht, Systematik, Alleinstehend)\n",
    "schlagworte_df = pd.read_excel(\"schlagworte_systematik_gewichtung.xlsx\")\n",
    "schlagworte_df.columns = schlagworte_df.columns.str.strip()\n",
    "\n",
    "\n",
    "\n",
    "# Dictionaries für schnelleren Zugriff\n",
    "weights = dict(zip(schlagworte_df[\"Schlagwort\"], schlagworte_df[\"Gewichtung\"]))\n",
    "systematics = dict(zip(schlagworte_df[\"Schlagwort\"], schlagworte_df[\"Systematik\"]))\n",
    "\n",
    "\n",
    "# O-Sätze laden\n",
    "saetze_df = pd.read_excel(\"o-sätze.xlsx\")\n",
    "saetze_df.columns = saetze_df.columns.str.strip()\n",
    "\n",
    "# Alle Spalten außer \"IDN\" durchsuchen\n",
    "spalten_zum_pruefen = [col for col in saetze_df.columns if col != \"IDN\"]\n",
    "\n",
    "def evaluate_row(row):\n",
    "    text_all = \" \".join(str(val) for val in row if not pd.isna(val)).lower()\n",
    "    word_counts = {}\n",
    "\n",
    "    for word in weights.keys():\n",
    "        count = text_all.count(word.lower())\n",
    "        if count > 0:\n",
    "            gewicht = weights.get(word, 1)\n",
    "            score = count * gewicht\n",
    "            word_counts[word] = (count, score, systematics.get(word, \"\"))\n",
    "\n",
    "    if not word_counts:\n",
    "        return 0, \"\", 0, \"\"\n",
    "\n",
    "    total_weight = sum(weights.get(w, 1) for w in word_counts.keys())\n",
    "\n",
    "    # Entscheidungskriterien\n",
    "    if len(word_counts) >= 3 or total_weight >= 3:\n",
    "        formatted = [\n",
    "            f\"{word} ({count} Treffer, Gewicht={weights.get(word,1)}, Score={score}, Systematik={syst})\"\n",
    "            for word, (count, score, syst) in word_counts.items()\n",
    "        ]\n",
    "        return len(word_counts), \"; \".join(formatted), total_weight, \"OK\"\n",
    "\n",
    "\n",
    "\n",
    "# Neue Spalten erzeugen\n",
    "saetze_df[[\"Count\", \"Gefundene_Schlagworte\", \"Gesamtgewichtung\", \"Status\"]] = saetze_df[spalten_zum_pruefen].apply(\n",
    "    lambda row: pd.Series(evaluate_row(row)), axis=1\n",
    ")\n",
    "\n",
    "# Nur Zeilen mit Status=OK übernehmen\n",
    "ergebnis_df = saetze_df[saetze_df[\"Status\"] == \"OK\"][[\"IDN\", \"Titel\", \"Count\", \"Gesamtgewichtung\", \"Gefundene_Schlagworte\"]]\n",
    "\n",
    "# Ergebnis speichern\n",
    "ergebnis_df.to_excel(\"gefilterte_saetze.xlsx\", index=False)\n",
    "\n",
    "print(\"Fertig! Datei 'gefilterte_saetze.xlsx' erstellt ✅\")\n"
   ]
  }
 ],
 "metadata": {
  "kernelspec": {
   "display_name": "base",
   "language": "python",
   "name": "python3"
  },
  "language_info": {
   "codemirror_mode": {
    "name": "ipython",
    "version": 3
   },
   "file_extension": ".py",
   "mimetype": "text/x-python",
   "name": "python",
   "nbconvert_exporter": "python",
   "pygments_lexer": "ipython3",
   "version": "3.11.5"
  }
 },
 "nbformat": 4,
 "nbformat_minor": 2
}
