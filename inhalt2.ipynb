{
 "cells": [
  {
   "cell_type": "code",
   "execution_count": 7,
   "metadata": {},
   "outputs": [
    {
     "name": "stderr",
     "output_type": "stream",
     "text": [
      "C:\\Users\\sickerti\\AppData\\Local\\Temp\\ipykernel_10008\\3834971614.py:23: MarkupResemblesLocatorWarning: The input looks more like a filename than markup. You may want to open this file and pass the filehandle into Beautiful Soup.\n",
      "  soup = BeautifulSoup(response.text, \"html.parser\")\n"
     ]
    },
    {
     "name": "stdout",
     "output_type": "stream",
     "text": [
      "Die Datei 'idn_mit_schlagwort_gewichtung.xlsx' wurde erfolgreich erstellt!\n"
     ]
    }
   ],
   "source": [
    "import pandas as pd\n",
    "import requests\n",
    "from bs4 import BeautifulSoup\n",
    "import re\n",
    "\n",
    "# Dateien einlesen\n",
    "idn_df = pd.read_excel(\"idn.xlsx\", dtype=str)  # IDNs laden\n",
    "keywords_df = pd.read_excel(\"schlagworte_systematik_gewichtung.xlsx\", dtype=str)  # Schlagwörter mit Gewichtung + Systematik\n",
    "\n",
    "# Schlagwörter vorbereiten\n",
    "keywords = keywords_df[\"Schlagwort\"].dropna().tolist()\n",
    "weights = keywords_df.set_index(\"Schlagwort\")[\"Gewichtung\"].astype(int).to_dict()\n",
    "systematics = keywords_df.set_index(\"Schlagwort\")[\"Systematik\"].to_dict()\n",
    "alone_status = keywords_df.set_index(\"Schlagwort\")[\"Alleinstehend\"].fillna(\"\").to_dict() if \"Alleinstehend\" in keywords_df.columns else {}\n",
    "\n",
    "# Funktion zum Abrufen und Durchsuchen der Texte\n",
    "def find_keywords(idn):\n",
    "    url_text = f\"https://d-nb.info/{idn}/04/text\"\n",
    "    url_pdf = f\"https://d-nb.info/{idn}/04/pdf\"\n",
    "    try:\n",
    "        response = requests.get(url_text, timeout=10)\n",
    "        if response.status_code == 200:\n",
    "            soup = BeautifulSoup(response.text, \"html.parser\")\n",
    "            text = soup.get_text().lower()\n",
    "            \n",
    "            word_counts = {}  # Speichert Schlagwort: (Anzahl, Gewicht, Systematik)\n",
    "            \n",
    "            for word in keywords:\n",
    "                pattern = re.compile(rf\"\\b\\w*{re.escape(word.lower())}\\w*\\b\", re.IGNORECASE)\n",
    "                matches = pattern.findall(text)\n",
    "                count = len(matches)\n",
    "                \n",
    "                if count > 0:\n",
    "                    weighted = count * weights.get(word, 1)\n",
    "                    word_counts[word] = (count, weighted, systematics.get(word, \"\"))\n",
    "            \n",
    "            # Berechnung der Gesamtsumme der Gewichtungen (nur unique Schlagwörter)\n",
    "            total_weight = sum(weights.get(word, 1) for word in word_counts.keys())\n",
    "\n",
    "            # Entscheidungskriterien\n",
    "            if len(word_counts) >= 3 or total_weight >= 5:\n",
    "                formatted = [\n",
    "                    f\"{word} ({count} Treffer, Gewicht={weights.get(word,1)}, Score={weighted}, Systematik={systematics.get(word,'')})\"\n",
    "                    for word, (count, weighted, _) in word_counts.items()\n",
    "                ]\n",
    "                return url_text, url_pdf, \"; \".join(formatted), total_weight\n",
    "\n",
    "            elif len(word_counts) == 1:\n",
    "                word, (count, weighted, syst) = list(word_counts.items())[0]\n",
    "                if count >= 2 and alone_status.get(word, \"\").strip().lower() == \"x\":\n",
    "                    return url_text, url_pdf, f\"{word} ({count} Treffer, Gewicht={weights.get(word,1)}, Score={weighted}, Systematik={syst})\", total_weight\n",
    "    except requests.RequestException:\n",
    "        return url_text, url_pdf, \"Fehler\", 0\n",
    "    \n",
    "    return url_text, url_pdf, None, 0\n",
    "\n",
    "# Neue Spalten füllen\n",
    "idn_df[[\"URL\", \"PDF-URL\", \"Gefundene Schlagwörter\", \"Gesamtgewichtung\"]] = idn_df.iloc[:, 0].apply(find_keywords).apply(pd.Series)\n",
    "\n",
    "# Nur Zeilen mit gefundenen Schlagwörtern behalten\n",
    "idn_df = idn_df.dropna(subset=[\"Gefundene Schlagwörter\"])\n",
    "\n",
    "# Spaltennamen setzen\n",
    "idn_df.rename(columns={idn_df.columns[0]: \"IDN\"}, inplace=True)\n",
    "\n",
    "# Ergebnis speichern\n",
    "if not idn_df.empty:\n",
    "    idn_df.to_excel(\"idn_mit_schlagwort_gewichtung.xlsx\", index=False)\n",
    "    print(\"Die Datei 'idn_mit_schlagwort_gewichtung.xlsx' wurde erfolgreich erstellt!\")\n",
    "else:\n",
    "    print(\"Keine passenden Schlagwörter gefunden – es wurde keine Datei erstellt.\")\n"
   ]
  }
 ],
 "metadata": {
  "kernelspec": {
   "display_name": "base",
   "language": "python",
   "name": "python3"
  },
  "language_info": {
   "codemirror_mode": {
    "name": "ipython",
    "version": 3
   },
   "file_extension": ".py",
   "mimetype": "text/x-python",
   "name": "python",
   "nbconvert_exporter": "python",
   "pygments_lexer": "ipython3",
   "version": "3.11.5"
  }
 },
 "nbformat": 4,
 "nbformat_minor": 2
}
