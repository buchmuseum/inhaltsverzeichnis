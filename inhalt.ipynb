{
 "cells": [
  {
   "cell_type": "code",
   "execution_count": 2,
   "metadata": {},
   "outputs": [
    {
     "name": "stderr",
     "output_type": "stream",
     "text": [
      "C:\\Users\\sickerti\\AppData\\Local\\Temp\\ipykernel_10496\\3215325607.py:21: MarkupResemblesLocatorWarning: The input looks more like a filename than markup. You may want to open this file and pass the filehandle into Beautiful Soup.\n",
      "  soup = BeautifulSoup(response.text, \"html.parser\")\n"
     ]
    },
    {
     "name": "stdout",
     "output_type": "stream",
     "text": [
      "Die Datei 'idn_mit_schlagwort.xlsx' wurde erfolgreich erstellt!\n"
     ]
    }
   ],
   "source": [
    "import pandas as pd\n",
    "import requests\n",
    "from bs4 import BeautifulSoup\n",
    "import re\n",
    "\n",
    "# Dateien einlesen\n",
    "idn_df = pd.read_excel(\"idn.xlsx\", dtype=str)  # IDNs laden\n",
    "keywords_df = pd.read_excel(\"Schlagwort.xlsx\", dtype=str)  # Schlagwörter mit Spalte \"Alleinstehend\" laden\n",
    "\n",
    "# Schlagwörter in eine Liste mit Status \"Alleinstehend\" umwandeln\n",
    "keywords = keywords_df.iloc[:, 0].dropna().tolist()\n",
    "alone_status = keywords_df.set_index(keywords_df.columns[0])[\"Alleinstehend\"].fillna(\"\").to_dict()  # \"x\" oder leer\n",
    "\n",
    "# Funktion zum Abrufen und Durchsuchen der Texte\n",
    "def find_keywords(idn):\n",
    "    url_text = f\"https://d-nb.info/{idn}/04/text\"\n",
    "    url_pdf = f\"https://d-nb.info/{idn}/04/pdf\"\n",
    "    try:\n",
    "        response = requests.get(url_text, timeout=10)\n",
    "        if response.status_code == 200:\n",
    "            soup = BeautifulSoup(response.text, \"html.parser\")\n",
    "            text = soup.get_text().lower()  # Ganze Seite als Text\n",
    "            \n",
    "            word_counts = {}  # Speichert Schlagwort und Anzahl\n",
    "            \n",
    "            for word in keywords:\n",
    "                # Suche nach dem Schlagwort als Teil eines Wortes (z.B. \"museum\" in \"Volksmuseum\")\n",
    "                pattern = re.compile(rf\"\\b\\w*{re.escape(word.lower())}\\w*\\b\", re.IGNORECASE)\n",
    "                matches = pattern.findall(text)  # Finde alle Übereinstimmungen\n",
    "                count = len(matches)  # Zähle die Vorkommen\n",
    "                \n",
    "                if count > 0:\n",
    "                    word_counts[word] = count  # Speichert Wort + Anzahl\n",
    "            \n",
    "            # Prüfen, ob der Eintrag gespeichert werden soll\n",
    "            if len(word_counts) >= 2:  \n",
    "                # Mindestens 2 verschiedene Schlagwörter -> Speichern\n",
    "                formatted_words = [f\"{word} ({count})\" for word, count in word_counts.items()]\n",
    "                return url_text, url_pdf, \", \".join(formatted_words)\n",
    "            elif len(word_counts) == 1:  \n",
    "                # Falls nur ein einziges Schlagwort gefunden wurde\n",
    "                single_word = list(word_counts.keys())[0]\n",
    "                count = word_counts[single_word]\n",
    "                \n",
    "                # Nur speichern, wenn es mindestens 2-mal vorkommt und ein \"x\" in \"Alleinstehend\" hat\n",
    "                if count >= 2 and alone_status.get(single_word, \"\").strip().lower() == \"x\":\n",
    "                    return url_text, url_pdf, f\"{single_word} ({count})\"\n",
    "\n",
    "    except requests.RequestException:\n",
    "        return url_text, url_pdf, \"Fehler\"\n",
    "    \n",
    "    return url_text, url_pdf, None  # Falls keine Bedingung erfüllt ist, Rückgabe als None\n",
    "\n",
    "# Neue Spalten füllen\n",
    "idn_df[[\"URL\", \"PDF-URL\", \"Gefundenes Schlagwort\"]] = idn_df.iloc[:, 0].apply(find_keywords).apply(pd.Series)\n",
    "\n",
    "# Nur Zeilen mit gefundenen Schlagwörtern behalten\n",
    "idn_df = idn_df.dropna(subset=[\"Gefundenes Schlagwort\"])\n",
    "\n",
    "# Spaltennamen setzen\n",
    "idn_df.rename(columns={idn_df.columns[0]: \"IDN\"}, inplace=True)\n",
    "\n",
    "# Ergebnis speichern, nur wenn es Treffer gibt\n",
    "if not idn_df.empty:\n",
    "    idn_df.to_excel(\"idn_mit_schlagwort.xlsx\", index=False)\n",
    "    print(\"Die Datei 'idn_mit_schlagwort.xlsx' wurde erfolgreich erstellt!\")\n",
    "else:\n",
    "    print(\"Keine passenden Schlagwörter gefunden – es wurde keine Datei erstellt.\")\n",
    "\n"
   ]
  }
 ],
 "metadata": {
  "kernelspec": {
   "display_name": "Python 3 (ipykernel)",
   "language": "python",
   "name": "python3"
  },
  "language_info": {
   "codemirror_mode": {
    "name": "ipython",
    "version": 3
   },
   "file_extension": ".py",
   "mimetype": "text/x-python",
   "name": "python",
   "nbconvert_exporter": "python",
   "pygments_lexer": "ipython3",
   "version": "3.11.5"
  }
 },
 "nbformat": 4,
 "nbformat_minor": 4
}
