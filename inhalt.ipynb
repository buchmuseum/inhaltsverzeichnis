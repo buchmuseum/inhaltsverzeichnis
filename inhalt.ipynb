{
 "cells": [
  {
   "cell_type": "code",
   "execution_count": 12,
   "metadata": {},
   "outputs": [
    {
     "name": "stderr",
     "output_type": "stream",
     "text": [
      "/home/dbsm/.local/lib/python3.8/site-packages/bs4/__init__.py:435: MarkupResemblesLocatorWarning: The input looks more like a filename than markup. You may want to open this file and pass the filehandle into Beautiful Soup.\n",
      "  warnings.warn(\n"
     ]
    },
    {
     "name": "stdout",
     "output_type": "stream",
     "text": [
      "Die Datei 'idn_mit_schlagwort.xlsx' wurde erfolgreich erstellt!\n"
     ]
    }
   ],
   "source": [
    "import pandas as pd\n",
    "import requests\n",
    "from bs4 import BeautifulSoup\n",
    "import re\n",
    "\n",
    "# Dateien einlesen\n",
    "idn_df = pd.read_excel(\"idn.xlsx\", dtype=str)  # IDNs laden\n",
    "keywords_df = pd.read_excel(\"Schlagwort.xlsx\", dtype=str)  # Schlagwörter laden\n",
    "\n",
    "# Schlagwörter in eine Liste umwandeln\n",
    "keywords = keywords_df.iloc[:, 0].dropna().tolist()\n",
    "\n",
    "# Funktion zum Abrufen und Durchsuchen der Texte\n",
    "def find_keywords(idn):\n",
    "    url_text = f\"https://d-nb.info/{idn}/04/text\"\n",
    "    url_pdf = f\"https://d-nb.info/{idn}/04/pdf\"\n",
    "    try:\n",
    "        response = requests.get(url_text, timeout=10)\n",
    "        if response.status_code == 200:\n",
    "            soup = BeautifulSoup(response.text, \"html.parser\")\n",
    "            text = soup.get_text().lower()  # Ganze Seite als Text\n",
    "            \n",
    "            found_words = []\n",
    "            for word in keywords:\n",
    "                count = len(re.findall(rf\"\\b{re.escape(word.lower())}\\b\", text))  # Zählt exakte Wortvorkommen\n",
    "                if count > 0:\n",
    "                    found_words.append(f\"{word} ({count})\")  # Speichert das Wort + Anzahl\n",
    "            \n",
    "            return url_text, url_pdf, \", \".join(found_words) if found_words else None  # Falls kein Treffer, None\n",
    "    except requests.RequestException:\n",
    "        return url_text, url_pdf, \"Fehler\"\n",
    "    return url_text, url_pdf, None  # Falls kein Schlagwort gefunden, Rückgabe als None\n",
    "\n",
    "# Neue Spalten füllen\n",
    "idn_df[[\"URL\", \"PDF-URL\", \"Gefundenes Schlagwort\"]] = idn_df.iloc[:, 0].apply(find_keywords).apply(pd.Series)\n",
    "\n",
    "# Nur Zeilen mit gefundenen Schlagwörtern behalten\n",
    "idn_df = idn_df.dropna(subset=[\"Gefundenes Schlagwort\"])\n",
    "\n",
    "# Spaltennamen setzen\n",
    "idn_df.rename(columns={idn_df.columns[0]: \"IDN\"}, inplace=True)\n",
    "\n",
    "# Ergebnis speichern, nur wenn es Treffer gibt\n",
    "if not idn_df.empty:\n",
    "    idn_df.to_excel(\"idn_mit_schlagwort.xlsx\", index=False)\n",
    "    print(\"Die Datei 'idn_mit_schlagwort.xlsx' wurde erfolgreich erstellt!\")\n",
    "else:\n",
    "    print(\"Keine Schlagwörter gefunden – es wurde keine Datei erstellt.\")\n"
   ]
  }
 ],
 "metadata": {
  "kernelspec": {
   "display_name": "Python 3",
   "language": "python",
   "name": "python3"
  },
  "language_info": {
   "codemirror_mode": {
    "name": "ipython",
    "version": 3
   },
   "file_extension": ".py",
   "mimetype": "text/x-python",
   "name": "python",
   "nbconvert_exporter": "python",
   "pygments_lexer": "ipython3",
   "version": "3.8.10"
  }
 },
 "nbformat": 4,
 "nbformat_minor": 2
}
