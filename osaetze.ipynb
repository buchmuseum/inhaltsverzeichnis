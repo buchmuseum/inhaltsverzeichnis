{
 "cells": [
  {
   "cell_type": "code",
   "execution_count": null,
   "id": "10751e07-e3b8-40a9-8e92-a0831d231d0a",
   "metadata": {},
   "outputs": [],
   "source": [
    "import pandas as pd\n",
    "\n",
    "# Excel-Dateien laden\n",
    "schlagworte_df = pd.read_excel('schlagwort.xlsx')  # Datei mit Schlagwörtern\n",
    "saetze_df = pd.read_excel('o-sätze.xlsx')           # Datei mit Sätzen\n",
    "\n",
    "# Liste der Schlagwörter\n",
    "schlagworte = schlagworte_df['Schlagwort'].dropna().tolist()\n",
    "\n",
    "# Funktion zum Zählen, wie viele Schlagwörter in einer Zelle vorkommen\n",
    "def count_keywords(text, keywords):\n",
    "    if pd.isna(text):\n",
    "        return 0\n",
    "    count = sum(text.lower().count(keyword.lower()) for keyword in keywords)\n",
    "    return count\n",
    "\n",
    "# Neue Spalte 'Count' hinzufügen\n",
    "saetze_df['Count'] = saetze_df['Text'].apply(lambda x: count_keywords(x, schlagworte))\n",
    "\n",
    "# Nur Zeilen behalten, in denen mindestens ein Schlagwort vorkommt\n",
    "gefiltert_df = saetze_df[saetze_df['Count'] > 0]\n",
    "\n",
    "# Ergebnis in neue Excel-Datei speichern\n",
    "gefiltert_df.to_excel('gefilterte_saetze.xlsx', index=False)\n",
    "\n",
    "print(\"Fertig! Die Datei 'gefilterte_saetze.xlsx' wurde erstellt.\")\n"
   ]
  }
 ],
 "metadata": {
  "kernelspec": {
   "display_name": "Python 3 (ipykernel)",
   "language": "python",
   "name": "python3"
  },
  "language_info": {
   "codemirror_mode": {
    "name": "ipython",
    "version": 3
   },
   "file_extension": ".py",
   "mimetype": "text/x-python",
   "name": "python",
   "nbconvert_exporter": "python",
   "pygments_lexer": "ipython3",
   "version": "3.11.5"
  }
 },
 "nbformat": 4,
 "nbformat_minor": 5
}
