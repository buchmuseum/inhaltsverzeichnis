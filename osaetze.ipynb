{
 "cells": [
  {
   "cell_type": "code",
   "execution_count": 1,
   "id": "10751e07-e3b8-40a9-8e92-a0831d231d0a",
   "metadata": {},
   "outputs": [
    {
     "name": "stdout",
     "output_type": "stream",
     "text": [
      "Fertig! Datei 'gefilterte_saetze.xlsx' erstellt ✅\n"
     ]
    }
   ],
   "source": [
    "import pandas as pd\n",
    "\n",
    "# Dateien laden\n",
    "schlagworte_df = pd.read_excel(\"schlagwort.xlsx\")  \n",
    "saetze_df = pd.read_excel(\"o-sätze.xlsx\")\n",
    "\n",
    "# Spaltennamen bereinigen\n",
    "saetze_df.columns = saetze_df.columns.str.strip()\n",
    "\n",
    "# Schlagwörter-Liste\n",
    "schlagworte = schlagworte_df['Schlagwort'].dropna().tolist()\n",
    "\n",
    "# Funktion: Schlagwörter zählen in einem Text\n",
    "def count_keywords(text, keywords):\n",
    "    if pd.isna(text):\n",
    "        return 0\n",
    "    text = str(text).lower()\n",
    "    return sum(text.count(keyword.lower()) for keyword in keywords)\n",
    "\n",
    "# Alle Spalten außer \"IDN\" prüfen\n",
    "spalten_zum_pruefen = [col for col in saetze_df.columns if col != \"IDN\"]\n",
    "\n",
    "# Für jede Zeile: Summe über alle relevanten Spalten bilden\n",
    "saetze_df[\"Count\"] = saetze_df[spalten_zum_pruefen].apply(\n",
    "    lambda row: sum(count_keywords(str(val), schlagworte) for val in row), axis=1\n",
    ")\n",
    "\n",
    "# Nur Zeilen behalten, die Treffer haben\n",
    "gefiltert_df = saetze_df[saetze_df[\"Count\"] > 0]\n",
    "\n",
    "# Ergebnis speichern\n",
    "gefiltert_df.to_excel(\"gefilterte_saetze.xlsx\", index=False)\n",
    "\n",
    "print(\"Fertig! Datei 'gefilterte_saetze.xlsx' erstellt ✅\")\n"
   ]
  }
 ],
 "metadata": {
  "kernelspec": {
   "display_name": "Python 3 (ipykernel)",
   "language": "python",
   "name": "python3"
  },
  "language_info": {
   "codemirror_mode": {
    "name": "ipython",
    "version": 3
   },
   "file_extension": ".py",
   "mimetype": "text/x-python",
   "name": "python",
   "nbconvert_exporter": "python",
   "pygments_lexer": "ipython3",
   "version": "3.11.5"
  }
 },
 "nbformat": 4,
 "nbformat_minor": 5
}
